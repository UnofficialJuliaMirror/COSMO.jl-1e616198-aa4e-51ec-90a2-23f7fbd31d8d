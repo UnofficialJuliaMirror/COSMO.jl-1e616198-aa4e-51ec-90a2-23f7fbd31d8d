{
 "cells": [
  {
   "cell_type": "markdown",
   "metadata": {},
   "source": [
    "# Customising COSMO's linear system solver\n",
    "\n",
    "The two major operation at each step in `COSMO`'s algorithm are \n",
    "1. solving a linear system of equations and \n",
    "2. projecting a vector onto the constraint set\n",
    "\n",
    "In this notebook we will explain how to customise the **linear solver** used in step 1.\n",
    "\n",
    "Depending on the problem class (QP vs. SDP), the problem dimensions, and the sparsity it can be advantagous for the performance of COSMO to try different algorithms to solve the linear system. Let us take a closer look at the linear system that we want to solve:\n",
    "\n",
    "$$\n",
    "\\begin{align*}\n",
    "\\begin{bmatrix}\n",
    "P + \\sigma I & A^\\top \\\\A &- \\frac{1}{\\rho}I\n",
    "    \\end{bmatrix}\\begin{bmatrix}\\tilde{x}^{k+1} \\\\ \\nu^{k+1}\\end{bmatrix}&= \\begin{bmatrix}-q+\\sigma x^k \\\\b-s^k+\\frac{1}{\\rho}y^k\\end{bmatrix}\n",
    " \\end{align*}\n",
    "$$\n",
    "Here $P$, $A$, $q$ and $b$ are problem data, $\\rho$ and $\\sigma$ are algorithm parameters and $x$, $\\nu$, $s$, and $y$ are the iterates. The system is derived from the KKT conditions of the ADMM subproblem. We will therefore refer to it in the following as the KKT system. Before we talk about solving this linear system it is important to highlight two of its properties:\n",
    "1. the left-hand matrix is not dependent on the iterates and therefore does not change (the only exception is when one of the algorithm parameters, e.g. $\\rho$, changes)\n",
    "2. the left-hand matrix is always quasi-definite. \n",
    "\n",
    "\n",
    "From (1.) it follows that we can factorise the matrix before the first iteration and then perform back-substitution with changing right-hand sides for the following iterations. This is much more efficient than having to factor the matrix at each iteration.\n",
    "\n",
    "## Different linear system solvers in COSMO\n",
    "COSMO allows you to pick different algorithms to solve the linear system. These can be separated into three classes based on the packages that provide the different methods:\n",
    "1. built-in methods: QDLDL, Cholmod\n",
    "2. Pardiso solver from the `Pardiso.jl` Package. An efficient solver that exploits parallelism.\n",
    "3. indirect methods from the `IterativeSolver.jl` package\n",
    "\n",
    "Another way of classifying the methods would be into:\n",
    "- **Direct methods**: They factor the left-hand matrix and perform back-substitution\n",
    "    - e.g. QDLDL, Cholmod, Pardiso, Intel MKL Pardiso\n",
    "- **Indirect methods**: Algorithms that try to find a solution iteratively. They don't have the advantage of factoring the matrix, but can often be efficiently warm-started and converge in a few iterations.\n",
    "    - e.g. Conjugate Gradient, Minimum Residual Method\n",
    "\n",
    "\n",
    "## An example problem\n",
    "As an example we solve the large maximum cut problem *maxG31* from the **SDPLib Benchmark Library**. The SDP has the following form:\n",
    "\n",
    "[INSERT LATEX HERE]\n",
    "\n",
    "\n",
    "with \n",
    "$A$: a sparse matrix of dimension 2.125.906 x 126.906  with 251.812 non-zeros.\n",
    "\n",
    "Accordingly, the linear system we have to solve has a size of 2.252.812 x 2.252.812 and 2.756.436 non-zeros.\n",
    "\n",
    "### Using QDLDL or Cholmod\n",
    "You can define the linear system solver in the `COSMO.Settings` object using the `kkt_solver` keyword. By default the **QDLDL** solver (type: `QDLDLKKTSolver`) is chosen. Let's assume we want to solve this problem using Julia's default linear system solver **Cholmod** (type: `CholmodKKTSolver`). We create and assemble the `COSMO.Model()` using the specified settings."
   ]
  },
  {
   "cell_type": "code",
   "execution_count": 5,
   "metadata": {},
   "outputs": [
    {
     "ename": "UndefVarError",
     "evalue": "UndefVarError: pd not defined",
     "output_type": "error",
     "traceback": [
      "UndefVarError: pd not defined",
      "",
      "Stacktrace:",
      " [1] top-level scope at In[5]:5"
     ]
    }
   ],
   "source": [
    "using COSMO, LinearAlgebra, SparseArrays\n",
    "\n",
    "model = COSMO.Model();\n",
    "settings = COSMO.Settings(kkt_solver = CholmodKKTSolver)\n",
    "\n",
    "COSMO.set!(model, pd.P, pd.q, pd.A, pd.b, pd.convex_set, settings)\n",
    "result = COSMO.optimize!(model);\n"
   ]
  },
  {
   "cell_type": "markdown",
   "metadata": {},
   "source": [
    "### Using (Intel MKL) Pardiso\n",
    "If your problem is sparse and you have a multi-core CPU you might want to try the sparse parallel solvers **Pardiso** and **Intel MKL Pardiso**. To use these solvers you need to install the solvers and add the [Pardiso.jl](https://github.com/JuliaSparse/Pardiso.jl) Julia wrapper. \n",
    "> For more information on how to install the solvers please consult the `Pardiso.jl` [README](https://github.com/JuliaSparse/Pardiso.jl).\n",
    "\n",
    "To use the direct solver from Pardiso specify `kkt_solver = PardisoDirectKKTSolver`.\n",
    "In order to use multiple CPU threads we have to change the environment variable `OMP_NUM_THREADS`. This has to be done before the `Pardiso` Julia package is loaded. So let's restart Julia and type:"
   ]
  },
  {
   "cell_type": "code",
   "execution_count": 6,
   "metadata": {
    "scrolled": true
   },
   "outputs": [
    {
     "ename": "ArgumentError",
     "evalue": "ArgumentError: Package Pardiso not found in current path:\n- Run `import Pkg; Pkg.add(\"Pardiso\")` to install the Pardiso package.\n",
     "output_type": "error",
     "traceback": [
      "ArgumentError: Package Pardiso not found in current path:\n- Run `import Pkg; Pkg.add(\"Pardiso\")` to install the Pardiso package.\n",
      "",
      "Stacktrace:",
      " [1] require(::Module, ::Symbol) at ./loading.jl:876",
      " [2] top-level scope at In[6]:2"
     ]
    }
   ],
   "source": [
    "# set the number of CPU threads before loading COSMO/Pardiso\n",
    "ENV[\"OMP_NUM_THREADS\"] = 4\n",
    "using COSMO, LinearAlgebra, SparseArrays\n",
    "\n",
    "# let's solve the same problem again with Pardiso as the underlying KKT system solver\n",
    "model = COSMO.Model();\n",
    "settings = COSMO.Settings(kkt_solver = PardisoDirectKKTSolver)\n",
    "COSMO.set!(model, pd.P, pd.q, pd.A, pd.b, pd.convex_set, settings)\n",
    "result = COSMO.optimize!(model);"
   ]
  },
  {
   "cell_type": "markdown",
   "metadata": {},
   "source": [
    "Intel offers a Pardiso version optimised for Intel CPUs. To use this version set `kkt_solver = MKLPardisoKKTSolver`. \n",
    "> Note: Setting the number of threads for Intel MKL Pardiso via `Pardiso.jl` seems to be broked at the moment.\n",
    "\n",
    "### Using an indirect solver from IterativeSolvers.jl"
   ]
  },
  {
   "cell_type": "markdown",
   "metadata": {},
   "source": [
    "You can use COSMO with two indirect algorithms provided by the [IterativeSolvers.jl](https://github.com/JuliaMath/IterativeSolvers.jl) package:\n",
    "\n",
    "| Method              | When to use it|\n",
    "| ------------------- | ----------------------------------------------------- |\n",
    "| MINRES\t          | For symmetric, indefinite matrices                    |\n",
    "| Conjugate Gradients | Best choice for symmetric, positive-definite matrices |\n",
    "\n",
    "The interface to `IterativeSolvers.jl` also relies on `LinearMaps.jl`. After you have installed both packages, you can solve the problem using MINRES as your iterative solver:"
   ]
  },
  {
   "cell_type": "code",
   "execution_count": null,
   "metadata": {},
   "outputs": [],
   "source": [
    "using IterativeSolvers, LinearMaps\n",
    "\n",
    "# let's solve the same problem again with Pardiso as the underlying KKT system solver\n",
    "model = COSMO.Model();\n",
    "settings = COSMO.Settings(kkt_solver = with_options(COSMO.IndirectKKTSolver, solver_type = :MINRES))\n",
    "COSMO.set!(model, pd.P, pd.q, pd.A, pd.b, pd.convex_set, settings)\n",
    "result = COSMO.optimize!(model);"
   ]
  },
  {
   "cell_type": "markdown",
   "metadata": {},
   "source": [
    "Notice, that the syntax has changed slightly. \n",
    "\n",
    "As you can see **Conjugate Gradient** only works with positive-definite matrices. But earlier I told you that our system is always quasi-definite. To solve this problem we replace the KKT system by a reduced KKT system:"
   ]
  }
 ],
 "metadata": {
  "kernelspec": {
   "display_name": "Julia 1.2.0",
   "language": "julia",
   "name": "julia-1.2"
  },
  "language_info": {
   "file_extension": ".jl",
   "mimetype": "application/julia",
   "name": "julia",
   "version": "1.2.0"
  }
 },
 "nbformat": 4,
 "nbformat_minor": 2
}
